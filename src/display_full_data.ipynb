{
 "cells": [
  {
   "cell_type": "code",
   "execution_count": 6,
   "id": "1c3c0374",
   "metadata": {},
   "outputs": [],
   "source": [
    "from tkinter import *\n",
    "from tkinter import ttk\n",
    "import pandas as pd\n",
    "from tkinter import filedialog\n",
    "from tkinter.filedialog import askopenfile\n",
    "root = Tk()\n",
    "root.geometry(\"500x200\")\n",
    "\n",
    "data = []\n",
    "file = ('TDCS_M06A_20190830_080000.csv')\n",
    "csv_data = pd.read_csv(file)\n",
    "k = csv_data.shape\n",
    "values = csv_data.values\n",
    "columns = csv_data.columns\n",
    "frame = Frame(root,height=500,width=500)\n",
    "frame.pack(fill='both',expand=1)\n",
    "tree = ttk.Treeview(frame, columns = (sorted(col for col in range(1,k[1]+2))),height = 2, show = \"headings\")\n",
    "tree.pack(side = 'left',fill='both',expand=1)\n",
    "\n",
    "scroll1 = Scrollbar(frame, orient=\"vertical\", command=tree.yview)\n",
    "scroll1.pack(side = 'right', fill = 'y')\n",
    "\n",
    "tree.configure(yscrollcommand=scroll1.set)\n",
    "\n",
    "scroll2 = Scrollbar(root, orient=\"horizontal\", command=tree.xview)\n",
    "scroll2.pack(side = 'bottom', fill = 'x')\n",
    "\n",
    "tree.configure(xscrollcommand=scroll2.set)\n",
    "\n",
    "for i in range(1,k[1]+2):\n",
    "    tree.heading(i, text=i)\n",
    "    tree.column(i, width = 80)\n",
    "\n",
    "for i,val in enumerate(values):\n",
    "\n",
    "    i1 = i%2\n",
    "    if (i1==0):\n",
    "\n",
    "        tree.insert('', 'end', values = (val[sorted(j for j in range(k[1]))]),tag = 'gray')\n",
    "    else:\n",
    "        tree.insert('', 'end', values = (val[0],val[1],val[2],val[3],val[4],val[5],val[6],val[7]))\n",
    "tree.tag_configure('gray', background='#cccccc')        \n",
    "root.mainloop()"
   ]
  },
  {
   "cell_type": "code",
   "execution_count": null,
   "id": "401a2529",
   "metadata": {},
   "outputs": [],
   "source": []
  }
 ],
 "metadata": {
  "kernelspec": {
   "display_name": "Python 3",
   "language": "python",
   "name": "python3"
  },
  "language_info": {
   "codemirror_mode": {
    "name": "ipython",
    "version": 3
   },
   "file_extension": ".py",
   "mimetype": "text/x-python",
   "name": "python",
   "nbconvert_exporter": "python",
   "pygments_lexer": "ipython3",
   "version": "3.8.8"
  }
 },
 "nbformat": 4,
 "nbformat_minor": 5
}
