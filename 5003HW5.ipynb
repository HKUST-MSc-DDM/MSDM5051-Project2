{
 "cells": [
  {
   "cell_type": "markdown",
   "id": "3ce187b6",
   "metadata": {},
   "source": [
    "# **5003HW5**\n",
    "\n",
    "**Author: Li,Qichao**\n",
    "\n",
    "**ID:20787264**\n",
    "\n",
    "**2021,Nov**"
   ]
  },
  {
   "cell_type": "markdown",
   "id": "200f2ab8",
   "metadata": {},
   "source": [
    "#### **a.\tRead the data from the cleaned data file using Pandas.**"
   ]
  },
  {
   "cell_type": "code",
   "execution_count": 2,
   "id": "2e553b7f",
   "metadata": {},
   "outputs": [],
   "source": [
    "import pandas as pd \n",
    "import numpy as np\n",
    "import math\n",
    "df = pd.read_csv(\"^HSI-cleaning.csv\")"
   ]
  },
  {
   "cell_type": "markdown",
   "id": "e9adda97",
   "metadata": {},
   "source": [
    "#### **b.\tExtract the time series of the absolute returns from the column ‘Adj Close’**"
   ]
  },
  {
   "cell_type": "code",
   "execution_count": 3,
   "id": "c09d9a2f",
   "metadata": {},
   "outputs": [],
   "source": [
    "P = np.array(df[\"Adj Close\"])\n",
    "ret = []\n",
    "for i in range(len(P)-1):\n",
    "    ret.append(abs(math.log10(P[i+1]/P[i])))\n",
    "ret = np.array(ret)"
   ]
  },
  {
   "cell_type": "markdown",
   "id": "a5dd4dbc",
   "metadata": {},
   "source": [
    "#### **c.\tCompute the average of the time series.**"
   ]
  },
  {
   "cell_type": "code",
   "execution_count": 4,
   "id": "5792f39a",
   "metadata": {},
   "outputs": [],
   "source": [
    "T = len(ret)\n",
    "ave = np.sum(ret)/T"
   ]
  },
  {
   "cell_type": "markdown",
   "id": "4159a23b",
   "metadata": {},
   "source": [
    "#### **d.\tGenerate the series of cumulative sum, with each term subtracted by the average.**"
   ]
  },
  {
   "cell_type": "code",
   "execution_count": 5,
   "id": "bd444690",
   "metadata": {},
   "outputs": [],
   "source": [
    "x = ret-ave\n",
    "X = np.array([sum(x[:i+1]) for i in range(T)])\n",
    "##Xt = X[t-1]"
   ]
  },
  {
   "cell_type": "markdown",
   "id": "6b33ddd3",
   "metadata": {},
   "source": [
    "#### **e.\tUse the Sliding Window Method to create enough data**"
   ]
  },
  {
   "cell_type": "code",
   "execution_count": 6,
   "id": "3b034a1a",
   "metadata": {},
   "outputs": [],
   "source": [
    "step = np.arange(round(math.log10(7),2),round(math.log10(T-6),2),0.1)\n",
    "t = np.int64(10**step)"
   ]
  },
  {
   "cell_type": "markdown",
   "id": "e087a36c",
   "metadata": {},
   "source": [
    "#### **f.\tFor each segment starting at t_0, compute the root-mean-square difference between the data points and the local trend and then calculate $F(t)$.**\n",
    "\n",
    "Here we directly use the function:\n",
    "\n",
    "$F^2=⟨y^2 ⟩-⟨y⟩^2-(⟨xy⟩-⟨x⟩⟨y⟩)^2/(⟨x^2 ⟩-⟨x⟩^2 ).$"
   ]
  },
  {
   "cell_type": "code",
   "execution_count": 7,
   "id": "66173ebc",
   "metadata": {},
   "outputs": [
    {
     "name": "stdout",
     "output_type": "stream",
     "text": [
      "[0.0022734686559721246, 0.002478704549972813, 0.003016303778798728, 0.0034865005633264302, 0.003921354340566496, 0.004607974984434019, 0.005421700908546642, 0.006387379607289427, 0.007629044157850764, 0.009269150393897816, 0.011186532401305337, 0.013880483408015482, 0.017352775681466467, 0.021962601941745496, 0.027934007028676665, 0.035457891393268604, 0.044335380466512524, 0.055440965816173755, 0.06988385751696952, 0.08872693237488716, 0.11430349539326291, 0.1497093355739836, 0.19676424373095372, 0.25415271692310487, 0.32790174184180537, 0.4223984262197348, 0.5424129148497291, 0.6444146871432966, 0.6545741587961932, 0.6797816638232104, 0.7432082149472636]\n"
     ]
    }
   ],
   "source": [
    "F = []\n",
    "for time in t:\n",
    "    total = T-time+1\n",
    "    RMS = 0\n",
    "    for t0 in range(total):\n",
    "        x_ = np.array(range(t0,t0+time))\n",
    "        y_ = X[t0:t0+time]\n",
    "#         print(np.mean(y_)**2)\n",
    "        a = np.var(y_)-(np.mean(x_*y_)-np.mean(x_)*np.mean(y_))**2/np.var(x_)\n",
    "        RMS+=np.sqrt(a)\n",
    "    F.append(RMS/total)\n"
   ]
  },
  {
   "cell_type": "markdown",
   "id": "0c9a682f",
   "metadata": {},
   "source": [
    "#### g.  Plot $F(t)$ versus t using logarithmic scales for both axes."
   ]
  },
  {
   "cell_type": "code",
   "execution_count": 8,
   "id": "1c22f12a",
   "metadata": {},
   "outputs": [
    {
     "data": {
      "image/png": "[encoded data removed]",
      "text/plain": [
       "<Figure size 432x288 with 1 Axes>"
      ]
     },
     "metadata": {
      "needs_background": "light"
     },
     "output_type": "display_data"
    }
   ],
   "source": [
    "import matplotlib.pyplot as plt\n",
    "plt.loglog(t,F,marker='o')\n",
    "plt.show()"
   ]
  },
  {
   "cell_type": "markdown",
   "id": "d4761506",
   "metadata": {},
   "source": [
    "#### h. To obtain the exponent α in the relation $F(τ)∝τ^α$, discard the upper parts of the data points that deviate from the power law(because of the lack of data) and obtain the value of $α1$ for short time scale and $α2$ for long time scale seperately."
   ]
  },
  {
   "cell_type": "code",
   "execution_count": 13,
   "id": "328123ba",
   "metadata": {},
   "outputs": [
    {
     "data": {
      "image/png": "[encoded data removed]",
      "text/plain": [
       "<Figure size 432x288 with 1 Axes>"
      ]
     },
     "metadata": {
      "needs_background": "light"
     },
     "output_type": "display_data"
    }
   ],
   "source": [
    "t1 = t[:11]\n",
    "t2 = t[10:28]\n",
    "F1 = F[:11]\n",
    "F2 = F[10:28]\n",
    "logt1 = np.log10(t1)\n",
    "logt2 = np.log10(t2)\n",
    "logF1 = np.log10(F1)\n",
    "logF2 = np.log10(F2)\n",
    "coeff1 = np.polyfit(logt1,logF1,1)\n",
    "poly1 = np.poly1d(coeff1)\n",
    "# print(poly1)\n",
    "\n",
    "yfit1 = lambda x : 10**(poly1(np.log10(x)))\n",
    "coeff2 = np.polyfit(logt2,logF2,1)\n",
    "poly2 = np.poly1d(coeff2)\n",
    "# print(poly2)\n",
    "\n",
    "yfit2 = lambda x : 10**(poly2(np.log10(x)))\n",
    "plt.loglog(t1,yfit1(t1),'-b',lw = 2,label = f\"short-time:α1 = {round(coeff1[0],2)}\")\n",
    "plt.loglog(t2,yfit2(t2),'-r',lw = 2,label = f\"long-time:α2 = {round(coeff2[0],2)}\")\n",
    "plt.loglog(t1,F1,t2,F2,marker= 'o',lw = 0)\n",
    "plt.legend()\n",
    "plt.xlabel(\"t[day]\",fontsize = 15)\n",
    "plt.ylabel(\"F(t)\",fontsize = 15)\n",
    "plt.text(50,0.02,f'tx = {t1[-1]}')\n",
    "# print(t1[-1])\n",
    "plt.show()"
   ]
  },
  {
   "cell_type": "markdown",
   "id": "1c00049b",
   "metadata": {},
   "source": [
    "**From the plot we get above, we can find that: at short time scale(t<70days), the exponent is just 0.68 while it becomes 1.05 after that time, which indicates that the short-time and long-time behaviors of the market are different.**\n"
   ]
  },
  {
   "cell_type": "markdown",
   "id": "a5717718",
   "metadata": {},
   "source": [
    "However, only when t changes in minutes can we consider it has the short time scale. In this picture, we notice that the unit of t is \"day\", which can not be considered as a short time scale. So, we only need to calculate $\\alpha$ once."
   ]
  },
  {
   "cell_type": "code",
   "execution_count": 34,
   "id": "c9b4ff7e",
   "metadata": {},
   "outputs": [
    {
     "data": {
      "image/png": "[encoded data removed]",
      "text/plain": [
       "<Figure size 432x288 with 1 Axes>"
      ]
     },
     "metadata": {
      "needs_background": "light"
     },
     "output_type": "display_data"
    }
   ],
   "source": [
    "t3 = t[3:28]\n",
    "F3 = F[3:28]\n",
    "logt3 = np.log10(t3)\n",
    "logF3 = np.log10(F3)\n",
    "coeff3 = np.polyfit(logt3,logF3,1)\n",
    "poly3 = np.poly1d(coeff3)\n",
    "yfit3 = lambda x : 10**(poly3(np.log10(x)))\n",
    "plt.loglog(t3,yfit3(t3),'-b',lw = 2,label = f\"fitting:α= {round(coeff3[0],2)}\")\n",
    "\n",
    "plt.loglog(t3,F3,marker = \"o\",color = 'r',lw=0)\n",
    "plt.xlabel(\"t[day]\",fontsize = 15)\n",
    "plt.ylabel(\"F(t)\",fontsize = 15)\n",
    "plt.legend(fontsize = 15)\n",
    "plt.show()"
   ]
  },
  {
   "cell_type": "markdown",
   "id": "fe0e0878",
   "metadata": {},
   "source": [
    "**Finally, we get the exponent of $\\alpha$ = 0.98>0.5, which indicates that there are persistent long-range correlations in the time series.**"
   ]
  },
  {
   "cell_type": "code",
   "execution_count": null,
   "id": "e8a8414a",
   "metadata": {},
   "outputs": [],
   "source": []
  }
 ],
 "metadata": {
  "kernelspec": {
   "display_name": "Python 3",
   "language": "python",
   "name": "python3"
  },
  "language_info": {
   "codemirror_mode": {
    "name": "ipython",
    "version": 3
   },
   "file_extension": ".py",
   "mimetype": "text/x-python",
   "name": "python",
   "nbconvert_exporter": "python",
   "pygments_lexer": "ipython3",
   "version": "3.8.8"
  }
 },
 "nbformat": 4,
 "nbformat_minor": 5
}
